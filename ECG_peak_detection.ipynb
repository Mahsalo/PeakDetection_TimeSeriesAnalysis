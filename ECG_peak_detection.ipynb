{
  "nbformat": 4,
  "nbformat_minor": 0,
  "metadata": {
    "colab": {
      "name": "ECG_peak_detection.ipynb",
      "provenance": [],
      "collapsed_sections": [],
      "authorship_tag": "ABX9TyPvJD2RVBFTReQjPqZsmaV6",
      "include_colab_link": true
    },
    "kernelspec": {
      "name": "python3",
      "display_name": "Python 3"
    },
    "language_info": {
      "name": "python"
    }
  },
  "cells": [
    {
      "cell_type": "markdown",
      "metadata": {
        "id": "view-in-github",
        "colab_type": "text"
      },
      "source": [
        "<a href=\"https://colab.research.google.com/github/Mahsalo/PeakDetection_TimeSeriesAnalysis/blob/main/ECG_peak_detection.ipynb\" target=\"_parent\"><img src=\"https://colab.research.google.com/assets/colab-badge.svg\" alt=\"Open In Colab\"/></a>"
      ]
    },
    {
      "cell_type": "code",
      "metadata": {
        "id": "HWzGmxQmCLwY"
      },
      "source": [
        "import numpy as np\n",
        "import matplotlib.pyplot as plt \n",
        "import os\n",
        "import random\n",
        "import pandas as pd\n",
        "from scipy.stats.stats import pearsonr"
      ],
      "execution_count": null,
      "outputs": []
    },
    {
      "cell_type": "code",
      "metadata": {
        "id": "OfP3ZWPHCQ3j",
        "colab": {
          "base_uri": "https://localhost:8080/"
        },
        "outputId": "cb237c36-28cd-4e59-cae1-7849108e0aaf"
      },
      "source": [
        "### Mounting the Google Drive since I have put the files on my Google Drive\n",
        "from google.colab import drive\n",
        "drive.mount(\"/content/gdrive\", force_remount=True)"
      ],
      "execution_count": null,
      "outputs": [
        {
          "output_type": "stream",
          "text": [
            "Mounted at /content/gdrive\n"
          ],
          "name": "stdout"
        }
      ]
    },
    {
      "cell_type": "code",
      "metadata": {
        "id": "RqwyekPcCYi8",
        "colab": {
          "base_uri": "https://localhost:8080/",
          "height": 284
        },
        "outputId": "01661ade-096b-47c0-80ff-bf41a3f0798a"
      },
      "source": [
        "### Take a look at the two variables (two views of the same event) of a single record\n",
        "df1 = pd.read_csv(\"/content/gdrive/My Drive/ECG/s1-00_ecg.csv\")\n",
        "plt.plot(df1.iloc[:,0])\n",
        "plt.plot(df1.iloc[:,1])"
      ],
      "execution_count": null,
      "outputs": [
        {
          "output_type": "execute_result",
          "data": {
            "text/plain": [
              "[<matplotlib.lines.Line2D at 0x7f9e6fb310d0>]"
            ]
          },
          "metadata": {
            "tags": []
          },
          "execution_count": 164
        },
        {
          "output_type": "display_data",
          "data": {
            "image/png": "[encoded data removed]",
            "text/plain": [
              "<Figure size 432x288 with 1 Axes>"
            ]
          },
          "metadata": {
            "tags": [],
            "needs_background": "light"
          }
        }
      ]
    },
    {
      "cell_type": "code",
      "metadata": {
        "id": "QKcfjVQIa9Po",
        "colab": {
          "base_uri": "https://localhost:8080/",
          "height": 296
        },
        "outputId": "014b4895-5649-4604-c5cf-64eebc82012f"
      },
      "source": [
        "### Take a look at the target values sampled at 128 HZ or 0.0078 sec\n",
        "tar1 = pd.read_csv(\"/content/gdrive/My Drive/ECG/s1-00_ann.csv\")\n",
        "plt.plot(tar1)\n",
        "tar1.head(5)\n",
        "plt.xlabel('index')\n",
        "plt.ylabel('Time index of peaks')"
      ],
      "execution_count": null,
      "outputs": [
        {
          "output_type": "execute_result",
          "data": {
            "text/plain": [
              "Text(0, 0.5, 'Time index of peaks')"
            ]
          },
          "metadata": {
            "tags": []
          },
          "execution_count": 165
        },
        {
          "output_type": "display_data",
          "data": {
            "image/png": "[encoded data removed]",
            "text/plain": [
              "<Figure size 432x288 with 1 Axes>"
            ]
          },
          "metadata": {
            "tags": [],
            "needs_background": "light"
          }
        }
      ]
    },
    {
      "cell_type": "markdown",
      "metadata": {
        "id": "HkqfwcZddTHK"
      },
      "source": [
        "\n",
        "Since each sample is taken at (1/128)=0.0078 sec so for having the total of 230400 samples,  it must have taken 230400*0.0078 seconds which is around half an hour!"
      ]
    },
    {
      "cell_type": "code",
      "metadata": {
        "id": "fQ7aUo7nZ8-W",
        "colab": {
          "base_uri": "https://localhost:8080/"
        },
        "outputId": "ebb0264e-1d2a-450c-8d04-f06973d3c9f3"
      },
      "source": [
        "#### Take a look at the shape of the data: 230400 samples each taken at 1/128 sec so the samples are taken during around half an hour\n",
        "df3 = pd.read_csv(\"/content/gdrive/My Drive/ECG/s1-04_ecg.csv\")\n",
        "print('Shape of the first sample',df1.shape)\n",
        "print('Shape of the second sample',df3.shape)"
      ],
      "execution_count": null,
      "outputs": [
        {
          "output_type": "stream",
          "text": [
            "Shape of the first sample (230400, 2)\n",
            "Shape of the second sample (230400, 2)\n"
          ],
          "name": "stdout"
        }
      ]
    },
    {
      "cell_type": "markdown",
      "metadata": {
        "id": "4NrSt___WfdX"
      },
      "source": [
        "**Checking the correlation between two leads of ECG time series:**\n",
        "\n",
        "I have used Pearson correlation metric to check the correlation between the two leads (time series) of each ECG record. After analyzing the statistics of the correlation vector, we see that around/nearly 25%+12.5% of the correlations are negative and the maximum correlation is around 0.75, so I think we can use a ridge regulrizer in the loss function of the regression to treat the correlation in this dataset.\n"
      ]
    },
    {
      "cell_type": "code",
      "metadata": {
        "id": "5xVZ-7-JQynS"
      },
      "source": [
        "### Get the data and check the correlation between different variables of a dataframe\n",
        "dir_name = '/content/gdrive/My Drive/ECG'\n",
        "pattern1 = 'ecg'\n",
        "pattern2 = 'ann'\n",
        "correlation=[]\n",
        "l = []\n",
        "cnt = 1\n",
        "\n",
        "n=230400 ###number of time stamps in each record\n",
        "m=42 ###number of records\n",
        "dummy = np.zeros((n,m))\n",
        "dummy_df = pd.DataFrame(dummy)\n",
        "cnt2=1\n",
        "for filename in os.listdir(dir_name):\n",
        "    if pattern1 in filename: ### just read the ecg files\n",
        "        df = pd.read_csv(os.path.join(dir_name, filename))\n",
        "        X = df.iloc[:,0]\n",
        "        Y = df.iloc[:,1]\n",
        "        correlation.append(pearsonr(X,Y)) ##returns correlation and pvalue\n",
        "        dummy_df.iloc[:,cnt2]=X\n",
        "        cnt2+=1\n",
        "    elif pattern2 in filename:\n",
        "        df_target= pd.read_csv(os.path.join(dir_name,filename))\n",
        "        cnt+=1\n",
        "    else:  \n",
        "        continue\n",
        "Data = dummy_df        "
      ],
      "execution_count": null,
      "outputs": []
    },
    {
      "cell_type": "code",
      "metadata": {
        "id": "IuejjGv1p0rV",
        "colab": {
          "base_uri": "https://localhost:8080/"
        },
        "outputId": "9811968e-e9ac-4b98-99fa-2ad31781cb30"
      },
      "source": [
        "print('Total nummber of lables',cnt)"
      ],
      "execution_count": null,
      "outputs": [
        {
          "output_type": "stream",
          "text": [
            "Total nummber of lables 42\n"
          ],
          "name": "stdout"
        }
      ]
    },
    {
      "cell_type": "code",
      "metadata": {
        "id": "qjdBetTtUPd0",
        "colab": {
          "base_uri": "https://localhost:8080/",
          "height": 297
        },
        "outputId": "c57ede57-f665-4283-c38b-e0773909f4f6"
      },
      "source": [
        "cor_df = pd.DataFrame(correlation)\n",
        "cor_df.describe()\n"
      ],
      "execution_count": null,
      "outputs": [
        {
          "output_type": "execute_result",
          "data": {
            "text/html": [
              "<div>\n",
              "<style scoped>\n",
              "    .dataframe tbody tr th:only-of-type {\n",
              "        vertical-align: middle;\n",
              "    }\n",
              "\n",
              "    .dataframe tbody tr th {\n",
              "        vertical-align: top;\n",
              "    }\n",
              "\n",
              "    .dataframe thead th {\n",
              "        text-align: right;\n",
              "    }\n",
              "</style>\n",
              "<table border=\"1\" class=\"dataframe\">\n",
              "  <thead>\n",
              "    <tr style=\"text-align: right;\">\n",
              "      <th></th>\n",
              "      <th>0</th>\n",
              "      <th>1</th>\n",
              "    </tr>\n",
              "  </thead>\n",
              "  <tbody>\n",
              "    <tr>\n",
              "      <th>count</th>\n",
              "      <td>41.000000</td>\n",
              "      <td>41.000000</td>\n",
              "    </tr>\n",
              "    <tr>\n",
              "      <th>mean</th>\n",
              "      <td>0.126958</td>\n",
              "      <td>0.004560</td>\n",
              "    </tr>\n",
              "    <tr>\n",
              "      <th>std</th>\n",
              "      <td>0.414951</td>\n",
              "      <td>0.029198</td>\n",
              "    </tr>\n",
              "    <tr>\n",
              "      <th>min</th>\n",
              "      <td>-0.724696</td>\n",
              "      <td>0.000000</td>\n",
              "    </tr>\n",
              "    <tr>\n",
              "      <th>25%</th>\n",
              "      <td>-0.206349</td>\n",
              "      <td>0.000000</td>\n",
              "    </tr>\n",
              "    <tr>\n",
              "      <th>50%</th>\n",
              "      <td>0.165533</td>\n",
              "      <td>0.000000</td>\n",
              "    </tr>\n",
              "    <tr>\n",
              "      <th>75%</th>\n",
              "      <td>0.430121</td>\n",
              "      <td>0.000000</td>\n",
              "    </tr>\n",
              "    <tr>\n",
              "      <th>max</th>\n",
              "      <td>0.749945</td>\n",
              "      <td>0.186957</td>\n",
              "    </tr>\n",
              "  </tbody>\n",
              "</table>\n",
              "</div>"
            ],
            "text/plain": [
              "               0          1\n",
              "count  41.000000  41.000000\n",
              "mean    0.126958   0.004560\n",
              "std     0.414951   0.029198\n",
              "min    -0.724696   0.000000\n",
              "25%    -0.206349   0.000000\n",
              "50%     0.165533   0.000000\n",
              "75%     0.430121   0.000000\n",
              "max     0.749945   0.186957"
            ]
          },
          "metadata": {
            "tags": []
          },
          "execution_count": 169
        }
      ]
    },
    {
      "cell_type": "code",
      "metadata": {
        "id": "aZQYkRMSWCuQ",
        "colab": {
          "base_uri": "https://localhost:8080/",
          "height": 283
        },
        "outputId": "c22fa6c3-c306-4351-fce8-d9bd76895ba7"
      },
      "source": [
        "cor_df.boxplot()"
      ],
      "execution_count": null,
      "outputs": [
        {
          "output_type": "execute_result",
          "data": {
            "text/plain": [
              "<matplotlib.axes._subplots.AxesSubplot at 0x7f9e71af5190>"
            ]
          },
          "metadata": {
            "tags": []
          },
          "execution_count": 170
        },
        {
          "output_type": "display_data",
          "data": {
            "image/png": "[encoded data removed]",
            "text/plain": [
              "<Figure size 432x288 with 1 Axes>"
            ]
          },
          "metadata": {
            "tags": [],
            "needs_background": "light"
          }
        }
      ]
    },
    {
      "cell_type": "code",
      "metadata": {
        "id": "3v-AVkr_SrON",
        "colab": {
          "base_uri": "https://localhost:8080/"
        },
        "outputId": "f79be1e0-655e-4c5e-845c-d5df5dcd2333"
      },
      "source": [
        "##### Applying moving average with window size of 4 to smoothen the time series considering only the first ecg lead\n",
        "def SMA(D): ### X is a one dimensional data frame and SMA returns a moving average over a window of size 4\n",
        "  x=[]\n",
        "  print(D)\n",
        "  for i in range(0,D.shape[0]-3):\n",
        "      x.append(np.round(((D.iloc[i]+ D.iloc[i+1] +D.iloc[i+2]+D.iloc[i+3])/4),1))\n",
        "  return x\n",
        "dir_name1 = '/content/gdrive/My Drive/ECG/s1-00_ecg.csv'\n",
        "df1 = pd.read_csv(dir_name1)\n",
        "res = SMA(df1.iloc[:,0])\n"
      ],
      "execution_count": null,
      "outputs": [
        {
          "output_type": "stream",
          "text": [
            "0         1.010483\n",
            "1         1.010483\n",
            "2         1.010483\n",
            "3         1.018389\n",
            "4         1.008420\n",
            "            ...   \n",
            "230395    0.646452\n",
            "230396    0.643358\n",
            "230397    0.683118\n",
            "230398    0.714858\n",
            "230399    0.743389\n",
            "Name: ecg1, Length: 230400, dtype: float64\n"
          ],
          "name": "stdout"
        }
      ]
    },
    {
      "cell_type": "code",
      "metadata": {
        "id": "MF79ZpwoS9Wz",
        "colab": {
          "base_uri": "https://localhost:8080/",
          "height": 285
        },
        "outputId": "a751bd79-977d-47b8-c453-0d164a36552b"
      },
      "source": [
        "### See the effect of using SMA\n",
        "res_df= pd.DataFrame(res)\n",
        "res_df.describe()\n",
        "\n",
        "fig, axs = plt.subplots(2)\n",
        "axs[0].plot(df1.iloc[:,0],'b')\n",
        "axs[1].plot(res_df,'r')"
      ],
      "execution_count": null,
      "outputs": [
        {
          "output_type": "execute_result",
          "data": {
            "text/plain": [
              "[<matplotlib.lines.Line2D at 0x7f9e81392b10>]"
            ]
          },
          "metadata": {
            "tags": []
          },
          "execution_count": 172
        },
        {
          "output_type": "display_data",
          "data": {
            "image/png": "[encoded data removed]",
            "text/plain": [
              "<Figure size 432x288 with 2 Axes>"
            ]
          },
          "metadata": {
            "tags": [],
            "needs_background": "light"
          }
        }
      ]
    },
    {
      "cell_type": "markdown",
      "metadata": {
        "id": "Oe6GvyIWliz7"
      },
      "source": [
        "**First Thought: Converting this regression problem into multi-class classification problem**\n",
        "\n",
        "Since the length of the time series are the same in all samples, I would like to consider the target variable as a vector of the same length (same as the time indices of the input time series and whenever we have a peak the vector shows 1 otherwise it must show 0, So it may look like a multi-one hot vector) which is really sparse. Then we would be able to detect the peaks through time and it's similar to nlp applications in which we could have one class per word.\n",
        "\n",
        "I think this method would result in too many output classes.\n",
        "\n",
        "**Second Method: Using Point Anomaly Detection Using Isolation Forest**\n",
        "\n"
      ]
    },
    {
      "cell_type": "markdown",
      "metadata": {
        "id": "ChRiVk2soJbY"
      },
      "source": [
        "**Modifying the target values**\n",
        "The sparse modified target vector would have n=230400 components, so the original target vectors are converted into the modified by dividing their value by the smapling period which is 1/128=0.0078 (could be rounded down for integer index).\n"
      ]
    },
    {
      "cell_type": "code",
      "metadata": {
        "id": "Iijxco2RRNSm"
      },
      "source": [
        "### Modifying the target values\n",
        "pattern2 = 'ann'\n",
        "n = 230400 ### cnt is the number of labels availbale\n",
        "dummyarray = np.zeros((n,cnt))\n",
        "df_target = pd.DataFrame(dummyarray)\n",
        "ix =1\n",
        "for filename in os.listdir(dir_name):\n",
        "    if pattern2 in filename:\n",
        "       \n",
        "        x = pd.read_csv(os.path.join(dir_name,filename))\n",
        "        \n",
        "        for j in range(len(x)):\n",
        "          \n",
        "          ind=np.floor(x.iloc[j]*128)\n",
        "          dummyarray[int(ind),ix]=1\n",
        "\n",
        "        ix+=1\n",
        "DF_target = pd.DataFrame(dummyarray)      "
      ],
      "execution_count": null,
      "outputs": []
    },
    {
      "cell_type": "markdown",
      "metadata": {
        "id": "ipShH6JwEaZD"
      },
      "source": [
        "**Data Split**"
      ]
    },
    {
      "cell_type": "code",
      "metadata": {
        "id": "csMhPna7x-O7",
        "colab": {
          "base_uri": "https://localhost:8080/",
          "height": 359
        },
        "outputId": "a2557ae7-3a93-442e-f5d5-75e1a1ab59ea"
      },
      "source": [
        "#### Target shape is (230400,42)\n",
        "#### Input data shape is (230400,42)\n",
        "#### Splitting the data into training set and test set (70%,30%)\n",
        "\n",
        "training_ind = np.random.choice(list(range(m)), size=(int(np.floor(0.7*m))),replace=False)\n",
        "test_ind=list(set(list(range(m)))-set(training_ind))\n",
        "\n",
        "x_train = Data.iloc[:,training_ind]\n",
        "x_test = Data.iloc[:,test_ind]\n",
        "\n",
        "y_train = DF_target.iloc[:,training_ind]\n",
        "y_test = DF_target.iloc[:,test_ind]\n",
        "\n",
        "y_train.head(10)"
      ],
      "execution_count": null,
      "outputs": [
        {
          "output_type": "execute_result",
          "data": {
            "text/html": [
              "<div>\n",
              "<style scoped>\n",
              "    .dataframe tbody tr th:only-of-type {\n",
              "        vertical-align: middle;\n",
              "    }\n",
              "\n",
              "    .dataframe tbody tr th {\n",
              "        vertical-align: top;\n",
              "    }\n",
              "\n",
              "    .dataframe thead th {\n",
              "        text-align: right;\n",
              "    }\n",
              "</style>\n",
              "<table border=\"1\" class=\"dataframe\">\n",
              "  <thead>\n",
              "    <tr style=\"text-align: right;\">\n",
              "      <th></th>\n",
              "      <th>39</th>\n",
              "      <th>6</th>\n",
              "      <th>28</th>\n",
              "      <th>23</th>\n",
              "      <th>38</th>\n",
              "      <th>2</th>\n",
              "      <th>17</th>\n",
              "      <th>25</th>\n",
              "      <th>0</th>\n",
              "      <th>26</th>\n",
              "      <th>7</th>\n",
              "      <th>10</th>\n",
              "      <th>20</th>\n",
              "      <th>19</th>\n",
              "      <th>35</th>\n",
              "      <th>32</th>\n",
              "      <th>9</th>\n",
              "      <th>16</th>\n",
              "      <th>29</th>\n",
              "      <th>8</th>\n",
              "      <th>36</th>\n",
              "      <th>13</th>\n",
              "      <th>4</th>\n",
              "      <th>14</th>\n",
              "      <th>27</th>\n",
              "      <th>40</th>\n",
              "      <th>18</th>\n",
              "      <th>5</th>\n",
              "      <th>12</th>\n",
              "    </tr>\n",
              "  </thead>\n",
              "  <tbody>\n",
              "    <tr>\n",
              "      <th>0</th>\n",
              "      <td>0.0</td>\n",
              "      <td>0.0</td>\n",
              "      <td>0.0</td>\n",
              "      <td>0.0</td>\n",
              "      <td>0.0</td>\n",
              "      <td>0.0</td>\n",
              "      <td>0.0</td>\n",
              "      <td>0.0</td>\n",
              "      <td>0.0</td>\n",
              "      <td>0.0</td>\n",
              "      <td>0.0</td>\n",
              "      <td>0.0</td>\n",
              "      <td>0.0</td>\n",
              "      <td>0.0</td>\n",
              "      <td>0.0</td>\n",
              "      <td>0.0</td>\n",
              "      <td>0.0</td>\n",
              "      <td>0.0</td>\n",
              "      <td>0.0</td>\n",
              "      <td>0.0</td>\n",
              "      <td>0.0</td>\n",
              "      <td>0.0</td>\n",
              "      <td>0.0</td>\n",
              "      <td>0.0</td>\n",
              "      <td>0.0</td>\n",
              "      <td>0.0</td>\n",
              "      <td>0.0</td>\n",
              "      <td>0.0</td>\n",
              "      <td>0.0</td>\n",
              "    </tr>\n",
              "    <tr>\n",
              "      <th>1</th>\n",
              "      <td>0.0</td>\n",
              "      <td>0.0</td>\n",
              "      <td>0.0</td>\n",
              "      <td>0.0</td>\n",
              "      <td>0.0</td>\n",
              "      <td>0.0</td>\n",
              "      <td>0.0</td>\n",
              "      <td>0.0</td>\n",
              "      <td>0.0</td>\n",
              "      <td>0.0</td>\n",
              "      <td>0.0</td>\n",
              "      <td>0.0</td>\n",
              "      <td>0.0</td>\n",
              "      <td>0.0</td>\n",
              "      <td>0.0</td>\n",
              "      <td>0.0</td>\n",
              "      <td>0.0</td>\n",
              "      <td>0.0</td>\n",
              "      <td>0.0</td>\n",
              "      <td>0.0</td>\n",
              "      <td>0.0</td>\n",
              "      <td>0.0</td>\n",
              "      <td>0.0</td>\n",
              "      <td>0.0</td>\n",
              "      <td>0.0</td>\n",
              "      <td>0.0</td>\n",
              "      <td>0.0</td>\n",
              "      <td>0.0</td>\n",
              "      <td>0.0</td>\n",
              "    </tr>\n",
              "    <tr>\n",
              "      <th>2</th>\n",
              "      <td>0.0</td>\n",
              "      <td>0.0</td>\n",
              "      <td>0.0</td>\n",
              "      <td>0.0</td>\n",
              "      <td>0.0</td>\n",
              "      <td>0.0</td>\n",
              "      <td>0.0</td>\n",
              "      <td>0.0</td>\n",
              "      <td>0.0</td>\n",
              "      <td>0.0</td>\n",
              "      <td>0.0</td>\n",
              "      <td>0.0</td>\n",
              "      <td>0.0</td>\n",
              "      <td>0.0</td>\n",
              "      <td>0.0</td>\n",
              "      <td>0.0</td>\n",
              "      <td>0.0</td>\n",
              "      <td>0.0</td>\n",
              "      <td>0.0</td>\n",
              "      <td>0.0</td>\n",
              "      <td>0.0</td>\n",
              "      <td>0.0</td>\n",
              "      <td>0.0</td>\n",
              "      <td>0.0</td>\n",
              "      <td>0.0</td>\n",
              "      <td>0.0</td>\n",
              "      <td>0.0</td>\n",
              "      <td>0.0</td>\n",
              "      <td>0.0</td>\n",
              "    </tr>\n",
              "    <tr>\n",
              "      <th>3</th>\n",
              "      <td>1.0</td>\n",
              "      <td>0.0</td>\n",
              "      <td>0.0</td>\n",
              "      <td>0.0</td>\n",
              "      <td>0.0</td>\n",
              "      <td>0.0</td>\n",
              "      <td>0.0</td>\n",
              "      <td>0.0</td>\n",
              "      <td>0.0</td>\n",
              "      <td>0.0</td>\n",
              "      <td>0.0</td>\n",
              "      <td>0.0</td>\n",
              "      <td>0.0</td>\n",
              "      <td>0.0</td>\n",
              "      <td>0.0</td>\n",
              "      <td>0.0</td>\n",
              "      <td>0.0</td>\n",
              "      <td>0.0</td>\n",
              "      <td>0.0</td>\n",
              "      <td>0.0</td>\n",
              "      <td>0.0</td>\n",
              "      <td>0.0</td>\n",
              "      <td>0.0</td>\n",
              "      <td>0.0</td>\n",
              "      <td>0.0</td>\n",
              "      <td>0.0</td>\n",
              "      <td>0.0</td>\n",
              "      <td>0.0</td>\n",
              "      <td>0.0</td>\n",
              "    </tr>\n",
              "    <tr>\n",
              "      <th>4</th>\n",
              "      <td>0.0</td>\n",
              "      <td>0.0</td>\n",
              "      <td>0.0</td>\n",
              "      <td>0.0</td>\n",
              "      <td>0.0</td>\n",
              "      <td>0.0</td>\n",
              "      <td>0.0</td>\n",
              "      <td>0.0</td>\n",
              "      <td>0.0</td>\n",
              "      <td>0.0</td>\n",
              "      <td>0.0</td>\n",
              "      <td>0.0</td>\n",
              "      <td>0.0</td>\n",
              "      <td>0.0</td>\n",
              "      <td>0.0</td>\n",
              "      <td>0.0</td>\n",
              "      <td>0.0</td>\n",
              "      <td>0.0</td>\n",
              "      <td>0.0</td>\n",
              "      <td>0.0</td>\n",
              "      <td>0.0</td>\n",
              "      <td>0.0</td>\n",
              "      <td>0.0</td>\n",
              "      <td>0.0</td>\n",
              "      <td>0.0</td>\n",
              "      <td>0.0</td>\n",
              "      <td>0.0</td>\n",
              "      <td>0.0</td>\n",
              "      <td>0.0</td>\n",
              "    </tr>\n",
              "    <tr>\n",
              "      <th>5</th>\n",
              "      <td>0.0</td>\n",
              "      <td>0.0</td>\n",
              "      <td>0.0</td>\n",
              "      <td>0.0</td>\n",
              "      <td>1.0</td>\n",
              "      <td>0.0</td>\n",
              "      <td>1.0</td>\n",
              "      <td>0.0</td>\n",
              "      <td>0.0</td>\n",
              "      <td>1.0</td>\n",
              "      <td>0.0</td>\n",
              "      <td>0.0</td>\n",
              "      <td>0.0</td>\n",
              "      <td>0.0</td>\n",
              "      <td>0.0</td>\n",
              "      <td>0.0</td>\n",
              "      <td>0.0</td>\n",
              "      <td>0.0</td>\n",
              "      <td>0.0</td>\n",
              "      <td>0.0</td>\n",
              "      <td>0.0</td>\n",
              "      <td>1.0</td>\n",
              "      <td>0.0</td>\n",
              "      <td>0.0</td>\n",
              "      <td>0.0</td>\n",
              "      <td>0.0</td>\n",
              "      <td>0.0</td>\n",
              "      <td>0.0</td>\n",
              "      <td>0.0</td>\n",
              "    </tr>\n",
              "    <tr>\n",
              "      <th>6</th>\n",
              "      <td>0.0</td>\n",
              "      <td>0.0</td>\n",
              "      <td>0.0</td>\n",
              "      <td>1.0</td>\n",
              "      <td>0.0</td>\n",
              "      <td>0.0</td>\n",
              "      <td>0.0</td>\n",
              "      <td>0.0</td>\n",
              "      <td>0.0</td>\n",
              "      <td>0.0</td>\n",
              "      <td>0.0</td>\n",
              "      <td>0.0</td>\n",
              "      <td>0.0</td>\n",
              "      <td>0.0</td>\n",
              "      <td>0.0</td>\n",
              "      <td>0.0</td>\n",
              "      <td>0.0</td>\n",
              "      <td>0.0</td>\n",
              "      <td>0.0</td>\n",
              "      <td>0.0</td>\n",
              "      <td>0.0</td>\n",
              "      <td>0.0</td>\n",
              "      <td>1.0</td>\n",
              "      <td>0.0</td>\n",
              "      <td>0.0</td>\n",
              "      <td>0.0</td>\n",
              "      <td>0.0</td>\n",
              "      <td>0.0</td>\n",
              "      <td>1.0</td>\n",
              "    </tr>\n",
              "    <tr>\n",
              "      <th>7</th>\n",
              "      <td>0.0</td>\n",
              "      <td>0.0</td>\n",
              "      <td>0.0</td>\n",
              "      <td>0.0</td>\n",
              "      <td>0.0</td>\n",
              "      <td>0.0</td>\n",
              "      <td>0.0</td>\n",
              "      <td>1.0</td>\n",
              "      <td>0.0</td>\n",
              "      <td>0.0</td>\n",
              "      <td>0.0</td>\n",
              "      <td>0.0</td>\n",
              "      <td>0.0</td>\n",
              "      <td>0.0</td>\n",
              "      <td>0.0</td>\n",
              "      <td>0.0</td>\n",
              "      <td>0.0</td>\n",
              "      <td>0.0</td>\n",
              "      <td>0.0</td>\n",
              "      <td>0.0</td>\n",
              "      <td>0.0</td>\n",
              "      <td>0.0</td>\n",
              "      <td>0.0</td>\n",
              "      <td>0.0</td>\n",
              "      <td>0.0</td>\n",
              "      <td>0.0</td>\n",
              "      <td>0.0</td>\n",
              "      <td>0.0</td>\n",
              "      <td>0.0</td>\n",
              "    </tr>\n",
              "    <tr>\n",
              "      <th>8</th>\n",
              "      <td>0.0</td>\n",
              "      <td>0.0</td>\n",
              "      <td>0.0</td>\n",
              "      <td>0.0</td>\n",
              "      <td>0.0</td>\n",
              "      <td>0.0</td>\n",
              "      <td>0.0</td>\n",
              "      <td>0.0</td>\n",
              "      <td>0.0</td>\n",
              "      <td>0.0</td>\n",
              "      <td>0.0</td>\n",
              "      <td>1.0</td>\n",
              "      <td>1.0</td>\n",
              "      <td>0.0</td>\n",
              "      <td>1.0</td>\n",
              "      <td>0.0</td>\n",
              "      <td>0.0</td>\n",
              "      <td>0.0</td>\n",
              "      <td>0.0</td>\n",
              "      <td>0.0</td>\n",
              "      <td>0.0</td>\n",
              "      <td>0.0</td>\n",
              "      <td>0.0</td>\n",
              "      <td>0.0</td>\n",
              "      <td>0.0</td>\n",
              "      <td>0.0</td>\n",
              "      <td>0.0</td>\n",
              "      <td>0.0</td>\n",
              "      <td>0.0</td>\n",
              "    </tr>\n",
              "    <tr>\n",
              "      <th>9</th>\n",
              "      <td>0.0</td>\n",
              "      <td>0.0</td>\n",
              "      <td>0.0</td>\n",
              "      <td>0.0</td>\n",
              "      <td>0.0</td>\n",
              "      <td>0.0</td>\n",
              "      <td>0.0</td>\n",
              "      <td>0.0</td>\n",
              "      <td>0.0</td>\n",
              "      <td>0.0</td>\n",
              "      <td>0.0</td>\n",
              "      <td>0.0</td>\n",
              "      <td>0.0</td>\n",
              "      <td>0.0</td>\n",
              "      <td>0.0</td>\n",
              "      <td>0.0</td>\n",
              "      <td>0.0</td>\n",
              "      <td>0.0</td>\n",
              "      <td>0.0</td>\n",
              "      <td>0.0</td>\n",
              "      <td>0.0</td>\n",
              "      <td>0.0</td>\n",
              "      <td>0.0</td>\n",
              "      <td>0.0</td>\n",
              "      <td>0.0</td>\n",
              "      <td>0.0</td>\n",
              "      <td>0.0</td>\n",
              "      <td>0.0</td>\n",
              "      <td>0.0</td>\n",
              "    </tr>\n",
              "  </tbody>\n",
              "</table>\n",
              "</div>"
            ],
            "text/plain": [
              "    39   6    28   23   38   2    17  ...   4    14   27   40   18   5    12\n",
              "0  0.0  0.0  0.0  0.0  0.0  0.0  0.0  ...  0.0  0.0  0.0  0.0  0.0  0.0  0.0\n",
              "1  0.0  0.0  0.0  0.0  0.0  0.0  0.0  ...  0.0  0.0  0.0  0.0  0.0  0.0  0.0\n",
              "2  0.0  0.0  0.0  0.0  0.0  0.0  0.0  ...  0.0  0.0  0.0  0.0  0.0  0.0  0.0\n",
              "3  1.0  0.0  0.0  0.0  0.0  0.0  0.0  ...  0.0  0.0  0.0  0.0  0.0  0.0  0.0\n",
              "4  0.0  0.0  0.0  0.0  0.0  0.0  0.0  ...  0.0  0.0  0.0  0.0  0.0  0.0  0.0\n",
              "5  0.0  0.0  0.0  0.0  1.0  0.0  1.0  ...  0.0  0.0  0.0  0.0  0.0  0.0  0.0\n",
              "6  0.0  0.0  0.0  1.0  0.0  0.0  0.0  ...  1.0  0.0  0.0  0.0  0.0  0.0  1.0\n",
              "7  0.0  0.0  0.0  0.0  0.0  0.0  0.0  ...  0.0  0.0  0.0  0.0  0.0  0.0  0.0\n",
              "8  0.0  0.0  0.0  0.0  0.0  0.0  0.0  ...  0.0  0.0  0.0  0.0  0.0  0.0  0.0\n",
              "9  0.0  0.0  0.0  0.0  0.0  0.0  0.0  ...  0.0  0.0  0.0  0.0  0.0  0.0  0.0\n",
              "\n",
              "[10 rows x 29 columns]"
            ]
          },
          "metadata": {
            "tags": []
          },
          "execution_count": 174
        }
      ]
    },
    {
      "cell_type": "markdown",
      "metadata": {
        "id": "7e-67HL_1cmE"
      },
      "source": [
        "**Assigning random time stamps to the time series data**\n",
        "\n",
        "\n",
        "\n"
      ]
    },
    {
      "cell_type": "code",
      "metadata": {
        "id": "9It8ifZmPU6j"
      },
      "source": [
        "\n",
        "def random_dates(start, end, n, unit='D', seed=None):\n",
        "    if not seed:  # from piR's answer\n",
        "        np.random.seed(0)\n",
        "\n",
        "    ndays = (end - start).days + 1\n",
        "    return pd.to_timedelta(np.random.rand(n) * ndays, unit=unit) + start\n",
        "np.random.seed(0)\n",
        "start = pd.to_datetime('2010-01-01')\n",
        "end = pd.to_datetime('2018-01-01')\n",
        "d=random_dates(start, end, n)"
      ],
      "execution_count": null,
      "outputs": []
    },
    {
      "cell_type": "code",
      "metadata": {
        "colab": {
          "base_uri": "https://localhost:8080/",
          "height": 390
        },
        "id": "FpOp_-sYQcGr",
        "outputId": "7fc77b68-464a-4ca6-fd3f-3e7dc164bb97"
      },
      "source": [
        "from statsmodels.tsa.seasonal import seasonal_decompose\n",
        "import datetime\n",
        "data1 = Data.transpose()\n",
        "newData = pd.DataFrame(data1.iloc[1,:].transpose().values.reshape(n,1))\n",
        "newData['Time'] = d\n",
        "newData.set_index('Time',inplace=True, drop=True)\n",
        "\n",
        "newData.head(10)"
      ],
      "execution_count": null,
      "outputs": [
        {
          "output_type": "execute_result",
          "data": {
            "text/html": [
              "<div>\n",
              "<style scoped>\n",
              "    .dataframe tbody tr th:only-of-type {\n",
              "        vertical-align: middle;\n",
              "    }\n",
              "\n",
              "    .dataframe tbody tr th {\n",
              "        vertical-align: top;\n",
              "    }\n",
              "\n",
              "    .dataframe thead th {\n",
              "        text-align: right;\n",
              "    }\n",
              "</style>\n",
              "<table border=\"1\" class=\"dataframe\">\n",
              "  <thead>\n",
              "    <tr style=\"text-align: right;\">\n",
              "      <th></th>\n",
              "      <th>0</th>\n",
              "    </tr>\n",
              "    <tr>\n",
              "      <th>Time</th>\n",
              "      <th></th>\n",
              "    </tr>\n",
              "  </thead>\n",
              "  <tbody>\n",
              "    <tr>\n",
              "      <th>2014-05-24 04:21:53.739071999</th>\n",
              "      <td>-0.394376</td>\n",
              "    </tr>\n",
              "    <tr>\n",
              "      <th>2015-09-22 11:57:51.947164800</th>\n",
              "      <td>-0.394376</td>\n",
              "    </tr>\n",
              "    <tr>\n",
              "      <th>2014-10-28 21:03:22.889404800</th>\n",
              "      <td>-0.394376</td>\n",
              "    </tr>\n",
              "    <tr>\n",
              "      <th>2014-05-12 16:38:42.192960000</th>\n",
              "      <td>-0.397814</td>\n",
              "    </tr>\n",
              "    <tr>\n",
              "      <th>2013-05-23 08:13:53.339635200</th>\n",
              "      <td>-0.389014</td>\n",
              "    </tr>\n",
              "    <tr>\n",
              "      <th>2015-03-03 22:45:49.751481600</th>\n",
              "      <td>-0.382070</td>\n",
              "    </tr>\n",
              "    <tr>\n",
              "      <th>2013-07-03 01:37:04.960214400</th>\n",
              "      <td>-0.479351</td>\n",
              "    </tr>\n",
              "    <tr>\n",
              "      <th>2017-02-19 15:39:34.383110400</th>\n",
              "      <td>-0.523282</td>\n",
              "    </tr>\n",
              "    <tr>\n",
              "      <th>2017-09-17 18:52:11.908848000</th>\n",
              "      <td>-0.580826</td>\n",
              "    </tr>\n",
              "    <tr>\n",
              "      <th>2013-01-25 19:11:21.943219200</th>\n",
              "      <td>-0.561851</td>\n",
              "    </tr>\n",
              "  </tbody>\n",
              "</table>\n",
              "</div>"
            ],
            "text/plain": [
              "                                      0\n",
              "Time                                   \n",
              "2014-05-24 04:21:53.739071999 -0.394376\n",
              "2015-09-22 11:57:51.947164800 -0.394376\n",
              "2014-10-28 21:03:22.889404800 -0.394376\n",
              "2014-05-12 16:38:42.192960000 -0.397814\n",
              "2013-05-23 08:13:53.339635200 -0.389014\n",
              "2015-03-03 22:45:49.751481600 -0.382070\n",
              "2013-07-03 01:37:04.960214400 -0.479351\n",
              "2017-02-19 15:39:34.383110400 -0.523282\n",
              "2017-09-17 18:52:11.908848000 -0.580826\n",
              "2013-01-25 19:11:21.943219200 -0.561851"
            ]
          },
          "metadata": {
            "tags": []
          },
          "execution_count": 177
        }
      ]
    },
    {
      "cell_type": "code",
      "metadata": {
        "colab": {
          "base_uri": "https://localhost:8080/",
          "height": 583
        },
        "id": "BQqwGrjvHg6u",
        "outputId": "f7a1a353-28de-49d8-8d64-bb957b324d22"
      },
      "source": [
        "from statsmodels.tsa.seasonal import seasonal_decompose\n",
        "import datetime\n",
        "\n",
        "decomposition = seasonal_decompose(newData,model='additive',freq=3)\n",
        "decomposition.plot()"
      ],
      "execution_count": null,
      "outputs": [
        {
          "output_type": "execute_result",
          "data": {
            "image/png": "[encoded data removed]",
            "text/plain": [
              "<Figure size 432x288 with 4 Axes>"
            ]
          },
          "metadata": {
            "tags": []
          },
          "execution_count": 178
        },
        {
          "output_type": "display_data",
          "data": {
            "image/png": "[encoded data removed]",
            "text/plain": [
              "<Figure size 432x288 with 4 Axes>"
            ]
          },
          "metadata": {
            "tags": [],
            "needs_background": "light"
          }
        }
      ]
    },
    {
      "cell_type": "markdown",
      "metadata": {
        "id": "2W2bQT_V1xbx"
      },
      "source": [
        "**Training an Isolation Forest Model**\n",
        "\n",
        "The contaminartion ratio shows the ratio of the outliers in the time series, we can use the information in the annotations file to see what is the ratio of outliers and then we can find the number of TP,TN,FP and FN after the prediction tof ind the accuracy and other evaluation metrics.\n"
      ]
    },
    {
      "cell_type": "code",
      "metadata": {
        "colab": {
          "base_uri": "https://localhost:8080/"
        },
        "id": "AKAwzqQLYWXg",
        "outputId": "b1800808-ccde-4a2b-a646-5dc4e5153f6c"
      },
      "source": [
        "from sklearn.preprocessing import StandardScaler\n",
        "from sklearn.ensemble import IsolationForest\n",
        "\n",
        "outliers_fraction = float(.01)\n",
        "scaler = StandardScaler()\n",
        "np_scaled = scaler.fit_transform(newData.values.reshape(-1, 1))\n",
        "data = pd.DataFrame(np_scaled)\n",
        "# train isolation forest\n",
        "model =  IsolationForest(contamination=outliers_fraction)\n",
        "model.fit(data)"
      ],
      "execution_count": null,
      "outputs": [
        {
          "output_type": "execute_result",
          "data": {
            "text/plain": [
              "IsolationForest(behaviour='deprecated', bootstrap=False, contamination=0.01,\n",
              "                max_features=1.0, max_samples='auto', n_estimators=100,\n",
              "                n_jobs=None, random_state=None, verbose=0, warm_start=False)"
            ]
          },
          "metadata": {
            "tags": []
          },
          "execution_count": 179
        }
      ]
    },
    {
      "cell_type": "code",
      "metadata": {
        "colab": {
          "base_uri": "https://localhost:8080/"
        },
        "id": "0I_VcNfsYnSA",
        "outputId": "aa0dc2bf-cd26-47df-e94b-1efd35875749"
      },
      "source": [
        "newData['anomaly'] = model.predict(data)\n",
        "a = newData.loc[newData['anomaly'] == -1] #anomalies are -1\n",
        "print(a)"
      ],
      "execution_count": null,
      "outputs": [
        {
          "output_type": "stream",
          "text": [
            "                                      0  anomaly\n",
            "Time                                            \n",
            "2016-02-08 14:59:16.189411200  0.320624       -1\n",
            "2014-04-30 19:59:30.172012800  0.381536       -1\n",
            "2016-01-26 09:09:50.209200000  0.313061       -1\n",
            "2011-02-02 16:38:12.734275200 -1.215045       -1\n",
            "2017-12-13 20:43:26.566147200  0.344824       -1\n",
            "...                                 ...      ...\n",
            "2017-12-30 04:54:00.317894400  0.309555       -1\n",
            "2012-03-13 23:17:42.011836800  0.374936       -1\n",
            "2015-06-20 14:31:02.690572800  0.347093       -1\n",
            "2012-02-21 06:54:06.389971200  0.300136       -1\n",
            "2016-06-24 08:50:51.073065599  0.332036       -1\n",
            "\n",
            "[2304 rows x 2 columns]\n"
          ],
          "name": "stdout"
        }
      ]
    },
    {
      "cell_type": "code",
      "metadata": {
        "id": "pw7k908yeLtI"
      },
      "source": [
        "targets = DF_target.iloc[:,1]\n",
        "newData['target']=targets.values"
      ],
      "execution_count": null,
      "outputs": []
    },
    {
      "cell_type": "code",
      "metadata": {
        "colab": {
          "base_uri": "https://localhost:8080/",
          "height": 390
        },
        "id": "PaDgW00zfePu",
        "outputId": "d278f81e-0c10-4ba5-a83d-0885f2523a02"
      },
      "source": [
        "target_negative_ones = newData.loc[newData['anomaly']==-1]\n",
        "target_negative_ones.head(10)\n",
        "target_ones = newData.loc[newData['target']==1]\n",
        "target_ones.head(10)\n"
      ],
      "execution_count": null,
      "outputs": [
        {
          "output_type": "execute_result",
          "data": {
            "text/html": [
              "<div>\n",
              "<style scoped>\n",
              "    .dataframe tbody tr th:only-of-type {\n",
              "        vertical-align: middle;\n",
              "    }\n",
              "\n",
              "    .dataframe tbody tr th {\n",
              "        vertical-align: top;\n",
              "    }\n",
              "\n",
              "    .dataframe thead th {\n",
              "        text-align: right;\n",
              "    }\n",
              "</style>\n",
              "<table border=\"1\" class=\"dataframe\">\n",
              "  <thead>\n",
              "    <tr style=\"text-align: right;\">\n",
              "      <th></th>\n",
              "      <th>0</th>\n",
              "      <th>anomaly</th>\n",
              "      <th>target</th>\n",
              "    </tr>\n",
              "    <tr>\n",
              "      <th>Time</th>\n",
              "      <th></th>\n",
              "      <th></th>\n",
              "      <th></th>\n",
              "    </tr>\n",
              "  </thead>\n",
              "  <tbody>\n",
              "    <tr>\n",
              "      <th>2015-03-03 22:45:49.751481600</th>\n",
              "      <td>-0.382070</td>\n",
              "      <td>1</td>\n",
              "      <td>1.0</td>\n",
              "    </tr>\n",
              "    <tr>\n",
              "      <th>2013-01-25 19:11:21.943219200</th>\n",
              "      <td>-0.561851</td>\n",
              "      <td>1</td>\n",
              "      <td>1.0</td>\n",
              "    </tr>\n",
              "    <tr>\n",
              "      <th>2014-12-11 08:21:55.407139199</th>\n",
              "      <td>-0.658926</td>\n",
              "      <td>1</td>\n",
              "      <td>1.0</td>\n",
              "    </tr>\n",
              "    <tr>\n",
              "      <th>2014-12-05 06:44:04.393132799</th>\n",
              "      <td>-0.674670</td>\n",
              "      <td>1</td>\n",
              "      <td>1.0</td>\n",
              "    </tr>\n",
              "    <tr>\n",
              "      <th>2013-05-26 08:32:06.013910400</th>\n",
              "      <td>-0.509807</td>\n",
              "      <td>1</td>\n",
              "      <td>1.0</td>\n",
              "    </tr>\n",
              "    <tr>\n",
              "      <th>2011-01-23 06:16:21.192787200</th>\n",
              "      <td>-0.401526</td>\n",
              "      <td>1</td>\n",
              "      <td>1.0</td>\n",
              "    </tr>\n",
              "    <tr>\n",
              "      <th>2012-03-22 09:55:17.213088000</th>\n",
              "      <td>-0.533389</td>\n",
              "      <td>1</td>\n",
              "      <td>1.0</td>\n",
              "    </tr>\n",
              "    <tr>\n",
              "      <th>2011-12-31 01:18:52.992691200</th>\n",
              "      <td>-0.477289</td>\n",
              "      <td>1</td>\n",
              "      <td>1.0</td>\n",
              "    </tr>\n",
              "    <tr>\n",
              "      <th>2017-05-19 07:57:47.757254400</th>\n",
              "      <td>-0.671679</td>\n",
              "      <td>1</td>\n",
              "      <td>1.0</td>\n",
              "    </tr>\n",
              "    <tr>\n",
              "      <th>2012-09-13 10:42:47.827900800</th>\n",
              "      <td>-0.472132</td>\n",
              "      <td>1</td>\n",
              "      <td>1.0</td>\n",
              "    </tr>\n",
              "  </tbody>\n",
              "</table>\n",
              "</div>"
            ],
            "text/plain": [
              "                                      0  anomaly  target\n",
              "Time                                                    \n",
              "2015-03-03 22:45:49.751481600 -0.382070        1     1.0\n",
              "2013-01-25 19:11:21.943219200 -0.561851        1     1.0\n",
              "2014-12-11 08:21:55.407139199 -0.658926        1     1.0\n",
              "2014-12-05 06:44:04.393132799 -0.674670        1     1.0\n",
              "2013-05-26 08:32:06.013910400 -0.509807        1     1.0\n",
              "2011-01-23 06:16:21.192787200 -0.401526        1     1.0\n",
              "2012-03-22 09:55:17.213088000 -0.533389        1     1.0\n",
              "2011-12-31 01:18:52.992691200 -0.477289        1     1.0\n",
              "2017-05-19 07:57:47.757254400 -0.671679        1     1.0\n",
              "2012-09-13 10:42:47.827900800 -0.472132        1     1.0"
            ]
          },
          "metadata": {
            "tags": []
          },
          "execution_count": 183
        }
      ]
    },
    {
      "cell_type": "code",
      "metadata": {
        "colab": {
          "base_uri": "https://localhost:8080/",
          "height": 359
        },
        "id": "bXB3XG58ygwR",
        "outputId": "c359e95f-8ce1-46fa-a8aa-488cd6b32f13"
      },
      "source": [
        "DF = newData.iloc[:,0:3]\n",
        "DF.reset_index(drop=True, inplace=True)\n",
        "\n",
        "DF.head(10)\n"
      ],
      "execution_count": null,
      "outputs": [
        {
          "output_type": "execute_result",
          "data": {
            "text/html": [
              "<div>\n",
              "<style scoped>\n",
              "    .dataframe tbody tr th:only-of-type {\n",
              "        vertical-align: middle;\n",
              "    }\n",
              "\n",
              "    .dataframe tbody tr th {\n",
              "        vertical-align: top;\n",
              "    }\n",
              "\n",
              "    .dataframe thead th {\n",
              "        text-align: right;\n",
              "    }\n",
              "</style>\n",
              "<table border=\"1\" class=\"dataframe\">\n",
              "  <thead>\n",
              "    <tr style=\"text-align: right;\">\n",
              "      <th></th>\n",
              "      <th>0</th>\n",
              "      <th>anomaly</th>\n",
              "      <th>target</th>\n",
              "    </tr>\n",
              "  </thead>\n",
              "  <tbody>\n",
              "    <tr>\n",
              "      <th>0</th>\n",
              "      <td>-0.394376</td>\n",
              "      <td>1</td>\n",
              "      <td>0.0</td>\n",
              "    </tr>\n",
              "    <tr>\n",
              "      <th>1</th>\n",
              "      <td>-0.394376</td>\n",
              "      <td>1</td>\n",
              "      <td>0.0</td>\n",
              "    </tr>\n",
              "    <tr>\n",
              "      <th>2</th>\n",
              "      <td>-0.394376</td>\n",
              "      <td>1</td>\n",
              "      <td>0.0</td>\n",
              "    </tr>\n",
              "    <tr>\n",
              "      <th>3</th>\n",
              "      <td>-0.397814</td>\n",
              "      <td>1</td>\n",
              "      <td>0.0</td>\n",
              "    </tr>\n",
              "    <tr>\n",
              "      <th>4</th>\n",
              "      <td>-0.389014</td>\n",
              "      <td>1</td>\n",
              "      <td>0.0</td>\n",
              "    </tr>\n",
              "    <tr>\n",
              "      <th>5</th>\n",
              "      <td>-0.382070</td>\n",
              "      <td>1</td>\n",
              "      <td>1.0</td>\n",
              "    </tr>\n",
              "    <tr>\n",
              "      <th>6</th>\n",
              "      <td>-0.479351</td>\n",
              "      <td>1</td>\n",
              "      <td>0.0</td>\n",
              "    </tr>\n",
              "    <tr>\n",
              "      <th>7</th>\n",
              "      <td>-0.523282</td>\n",
              "      <td>1</td>\n",
              "      <td>0.0</td>\n",
              "    </tr>\n",
              "    <tr>\n",
              "      <th>8</th>\n",
              "      <td>-0.580826</td>\n",
              "      <td>1</td>\n",
              "      <td>0.0</td>\n",
              "    </tr>\n",
              "    <tr>\n",
              "      <th>9</th>\n",
              "      <td>-0.561851</td>\n",
              "      <td>1</td>\n",
              "      <td>1.0</td>\n",
              "    </tr>\n",
              "  </tbody>\n",
              "</table>\n",
              "</div>"
            ],
            "text/plain": [
              "          0  anomaly  target\n",
              "0 -0.394376        1     0.0\n",
              "1 -0.394376        1     0.0\n",
              "2 -0.394376        1     0.0\n",
              "3 -0.397814        1     0.0\n",
              "4 -0.389014        1     0.0\n",
              "5 -0.382070        1     1.0\n",
              "6 -0.479351        1     0.0\n",
              "7 -0.523282        1     0.0\n",
              "8 -0.580826        1     0.0\n",
              "9 -0.561851        1     1.0"
            ]
          },
          "metadata": {
            "tags": []
          },
          "execution_count": 255
        }
      ]
    },
    {
      "cell_type": "code",
      "metadata": {
        "colab": {
          "base_uri": "https://localhost:8080/",
          "height": 384
        },
        "id": "t1xlqBG8yjDE",
        "outputId": "7b395068-61c1-4938-8a3a-2b62370188bf"
      },
      "source": [
        "xlim =np.arange(n)\n",
        "plt.plot(DF.iloc[:,0])\n",
        "ind=DF.loc[DF['anomaly']==-1]\n",
        "print(ind.index)\n",
        "plt.scatter(ind.index,DF.iloc[ind.index,0],color='r')\n",
        "print(xlim)"
      ],
      "execution_count": null,
      "outputs": [
        {
          "output_type": "stream",
          "text": [
            "Int64Index([  3866,   3867,   3868,  34975,  48144,  48145,  48146,  48302,\n",
            "             59526,  59527,\n",
            "            ...\n",
            "            229582, 229583, 229585, 229587, 229588, 229589, 229590, 229593,\n",
            "            229594, 229596],\n",
            "           dtype='int64', length=2304)\n",
            "[     0      1      2 ... 230397 230398 230399]\n"
          ],
          "name": "stdout"
        },
        {
          "output_type": "display_data",
          "data": {
            "image/png": "[encoded data removed]",
            "text/plain": [
              "<Figure size 432x288 with 1 Axes>"
            ]
          },
          "metadata": {
            "tags": [],
            "needs_background": "light"
          }
        }
      ]
    }
  ]
}